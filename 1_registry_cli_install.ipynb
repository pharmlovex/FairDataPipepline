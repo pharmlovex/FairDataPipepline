{
 "cells": [
  {
   "cell_type": "code",
   "execution_count": 1,
   "metadata": {},
   "outputs": [],
   "source": [
    "# Install fair-cli\n",
    "# import sys\n",
    "# !{sys.executable} -m pip install fair-cli"
   ]
  },
  {
   "cell_type": "code",
   "execution_count": 2,
   "metadata": {},
   "outputs": [],
   "source": [
    "# Install the Local Registry\n",
    "# !fair registry install"
   ]
  },
  {
   "cell_type": "code",
   "execution_count": 3,
   "metadata": {},
   "outputs": [
    {
     "name": "stdout",
     "output_type": "stream",
     "text": [
      "Starting local registry server\n",
      "Using Django Settings Module: drams.local-settings\n",
      "Attempting to start Registry on 0.0.0.0:8000\n",
      "Bound to All Addresses (0.0.0.0) setting to loopback address 127.0.0.1\n",
      "Local registry now accepting connections on http://127.0.0.1:8000\n",
      "An access token for the REST API is available in the file /home/jovyan/.fair/registry/token\n"
     ]
    }
   ],
   "source": [
    "# Start the local registry binding to all addresses (0.0.0.0)\n",
    "!fair registry start --address 0.0.0.0"
   ]
  }
 ],
 "metadata": {
  "kernelspec": {
   "display_name": "Python 3 (ipykernel)",
   "language": "python",
   "name": "python3"
  },
  "language_info": {
   "codemirror_mode": {
    "name": "ipython",
    "version": 3
   },
   "file_extension": ".py",
   "mimetype": "text/x-python",
   "name": "python",
   "nbconvert_exporter": "python",
   "pygments_lexer": "ipython3",
   "version": "3.11.6"
  },
  "vscode": {
   "interpreter": {
    "hash": "b0fa6594d8f4cbf19f97940f81e996739fb7646882a419484c72d19e05852a7e"
   }
  }
 },
 "nbformat": 4,
 "nbformat_minor": 4
}
