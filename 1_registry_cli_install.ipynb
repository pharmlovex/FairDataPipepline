{
 "cells": [
  {
   "cell_type": "code",
   "execution_count": 1,
   "metadata": {
    "scrolled": true
   },
   "outputs": [
    {
     "name": "stdout",
     "output_type": "stream",
     "text": [
      "Requirement already satisfied: fair-cli in c:\\users\\rcorbyn\\anaconda3\\envs\\fair_pipeline\\lib\\site-packages (0.9.5)\n",
      "Requirement already satisfied: GitPython<4.0.0,>=3.1.18 in c:\\users\\rcorbyn\\anaconda3\\envs\\fair_pipeline\\lib\\site-packages (from fair-cli) (3.1.43)\n",
      "Requirement already satisfied: Jinja2<4.0.0,>=3.0.1 in c:\\users\\rcorbyn\\anaconda3\\envs\\fair_pipeline\\lib\\site-packages (from fair-cli) (3.1.4)\n",
      "Requirement already satisfied: PyYAML<7.0.0,>=5.4.1 in c:\\users\\rcorbyn\\anaconda3\\envs\\fair_pipeline\\lib\\site-packages (from fair-cli) (6.0.1)\n",
      "Requirement already satisfied: click<9.0.0,>=8.0.0 in c:\\users\\rcorbyn\\anaconda3\\envs\\fair_pipeline\\lib\\site-packages (from fair-cli) (8.1.7)\n",
      "Requirement already satisfied: email-validator<2.0.0,>=1.1.3 in c:\\users\\rcorbyn\\anaconda3\\envs\\fair_pipeline\\lib\\site-packages (from fair-cli) (1.3.1)\n",
      "Requirement already satisfied: fake-useragent<2,>=1 in c:\\users\\rcorbyn\\anaconda3\\envs\\fair_pipeline\\lib\\site-packages (from fair-cli) (1.5.1)\n",
      "Requirement already satisfied: pre-commit<4,>=3 in c:\\users\\rcorbyn\\anaconda3\\envs\\fair_pipeline\\lib\\site-packages (from fair-cli) (3.7.1)\n",
      "Requirement already satisfied: pydantic<2.0.0,>=1.9.0 in c:\\users\\rcorbyn\\anaconda3\\envs\\fair_pipeline\\lib\\site-packages (from pydantic[email]<2.0.0,>=1.9.0->fair-cli) (1.10.16)\n",
      "Requirement already satisfied: requests<3.0.0,>=2.23.0 in c:\\users\\rcorbyn\\anaconda3\\envs\\fair_pipeline\\lib\\site-packages (from fair-cli) (2.32.3)\n",
      "Requirement already satisfied: rich<12.0.0,>=10.2.3 in c:\\users\\rcorbyn\\anaconda3\\envs\\fair_pipeline\\lib\\site-packages (from fair-cli) (11.2.0)\n",
      "Requirement already satisfied: semver<3.0.0,>=2.13.0 in c:\\users\\rcorbyn\\anaconda3\\envs\\fair_pipeline\\lib\\site-packages (from fair-cli) (2.13.0)\n",
      "Requirement already satisfied: simplejson<4.0.0,>=3.17.5 in c:\\users\\rcorbyn\\anaconda3\\envs\\fair_pipeline\\lib\\site-packages (from fair-cli) (3.19.2)\n",
      "Requirement already satisfied: toml<0.11.0,>=0.10.2 in c:\\users\\rcorbyn\\anaconda3\\envs\\fair_pipeline\\lib\\site-packages (from fair-cli) (0.10.2)\n",
      "Requirement already satisfied: validators<0.19.0,>=0.18.2 in c:\\users\\rcorbyn\\anaconda3\\envs\\fair_pipeline\\lib\\site-packages (from fair-cli) (0.18.2)\n",
      "Requirement already satisfied: colorama in c:\\users\\rcorbyn\\anaconda3\\envs\\fair_pipeline\\lib\\site-packages (from click<9.0.0,>=8.0.0->fair-cli) (0.4.6)\n",
      "Requirement already satisfied: dnspython>=1.15.0 in c:\\users\\rcorbyn\\anaconda3\\envs\\fair_pipeline\\lib\\site-packages (from email-validator<2.0.0,>=1.1.3->fair-cli) (2.6.1)\n",
      "Requirement already satisfied: idna>=2.0.0 in c:\\users\\rcorbyn\\anaconda3\\envs\\fair_pipeline\\lib\\site-packages (from email-validator<2.0.0,>=1.1.3->fair-cli) (3.7)\n",
      "Requirement already satisfied: gitdb<5,>=4.0.1 in c:\\users\\rcorbyn\\anaconda3\\envs\\fair_pipeline\\lib\\site-packages (from GitPython<4.0.0,>=3.1.18->fair-cli) (4.0.11)\n",
      "Requirement already satisfied: MarkupSafe>=2.0 in c:\\users\\rcorbyn\\anaconda3\\envs\\fair_pipeline\\lib\\site-packages (from Jinja2<4.0.0,>=3.0.1->fair-cli) (2.1.5)\n",
      "Requirement already satisfied: cfgv>=2.0.0 in c:\\users\\rcorbyn\\anaconda3\\envs\\fair_pipeline\\lib\\site-packages (from pre-commit<4,>=3->fair-cli) (3.4.0)\n",
      "Requirement already satisfied: identify>=1.0.0 in c:\\users\\rcorbyn\\anaconda3\\envs\\fair_pipeline\\lib\\site-packages (from pre-commit<4,>=3->fair-cli) (2.5.36)\n",
      "Requirement already satisfied: nodeenv>=0.11.1 in c:\\users\\rcorbyn\\anaconda3\\envs\\fair_pipeline\\lib\\site-packages (from pre-commit<4,>=3->fair-cli) (1.9.1)\n",
      "Requirement already satisfied: virtualenv>=20.10.0 in c:\\users\\rcorbyn\\anaconda3\\envs\\fair_pipeline\\lib\\site-packages (from pre-commit<4,>=3->fair-cli) (20.26.2)\n",
      "Requirement already satisfied: typing-extensions>=4.2.0 in c:\\users\\rcorbyn\\anaconda3\\envs\\fair_pipeline\\lib\\site-packages (from pydantic<2.0.0,>=1.9.0->pydantic[email]<2.0.0,>=1.9.0->fair-cli) (4.12.2)\n",
      "Requirement already satisfied: charset-normalizer<4,>=2 in c:\\users\\rcorbyn\\anaconda3\\envs\\fair_pipeline\\lib\\site-packages (from requests<3.0.0,>=2.23.0->fair-cli) (3.3.2)\n",
      "Requirement already satisfied: urllib3<3,>=1.21.1 in c:\\users\\rcorbyn\\anaconda3\\envs\\fair_pipeline\\lib\\site-packages (from requests<3.0.0,>=2.23.0->fair-cli) (2.2.1)\n",
      "Requirement already satisfied: certifi>=2017.4.17 in c:\\users\\rcorbyn\\anaconda3\\envs\\fair_pipeline\\lib\\site-packages (from requests<3.0.0,>=2.23.0->fair-cli) (2024.6.2)\n",
      "Requirement already satisfied: commonmark<0.10.0,>=0.9.0 in c:\\users\\rcorbyn\\anaconda3\\envs\\fair_pipeline\\lib\\site-packages (from rich<12.0.0,>=10.2.3->fair-cli) (0.9.1)\n",
      "Requirement already satisfied: pygments<3.0.0,>=2.6.0 in c:\\users\\rcorbyn\\anaconda3\\envs\\fair_pipeline\\lib\\site-packages (from rich<12.0.0,>=10.2.3->fair-cli) (2.18.0)\n",
      "Requirement already satisfied: six>=1.4.0 in c:\\users\\rcorbyn\\anaconda3\\envs\\fair_pipeline\\lib\\site-packages (from validators<0.19.0,>=0.18.2->fair-cli) (1.16.0)\n",
      "Requirement already satisfied: decorator>=3.4.0 in c:\\users\\rcorbyn\\anaconda3\\envs\\fair_pipeline\\lib\\site-packages (from validators<0.19.0,>=0.18.2->fair-cli) (5.1.1)\n",
      "Requirement already satisfied: smmap<6,>=3.0.1 in c:\\users\\rcorbyn\\anaconda3\\envs\\fair_pipeline\\lib\\site-packages (from gitdb<5,>=4.0.1->GitPython<4.0.0,>=3.1.18->fair-cli) (5.0.1)\n",
      "Requirement already satisfied: distlib<1,>=0.3.7 in c:\\users\\rcorbyn\\anaconda3\\envs\\fair_pipeline\\lib\\site-packages (from virtualenv>=20.10.0->pre-commit<4,>=3->fair-cli) (0.3.8)\n",
      "Requirement already satisfied: filelock<4,>=3.12.2 in c:\\users\\rcorbyn\\anaconda3\\envs\\fair_pipeline\\lib\\site-packages (from virtualenv>=20.10.0->pre-commit<4,>=3->fair-cli) (3.15.1)\n",
      "Requirement already satisfied: platformdirs<5,>=3.9.1 in c:\\users\\rcorbyn\\anaconda3\\envs\\fair_pipeline\\lib\\site-packages (from virtualenv>=20.10.0->pre-commit<4,>=3->fair-cli) (4.2.2)\n"
     ]
    }
   ],
   "source": [
    "# Install fair-cli\n",
    "import sys\n",
    "!{sys.executable} -m pip install fair-cli"
   ]
  },
  {
   "cell_type": "code",
   "execution_count": 2,
   "metadata": {
    "scrolled": true
   },
   "outputs": [
    {
     "name": "stdout",
     "output_type": "stream",
     "text": [
      "Error: Local registry is already installed in C:\\Users\\RCORBYN\\.fair\\registry\n"
     ]
    }
   ],
   "source": [
    "# Install the Local Registry\n",
    "!fair registry install"
   ]
  },
  {
   "cell_type": "code",
   "execution_count": 3,
   "metadata": {},
   "outputs": [
    {
     "name": "stdout",
     "output_type": "stream",
     "text": [
      "Error: Server already running.\n"
     ]
    }
   ],
   "source": [
    "# Start the local registry binding to all addresses (0.0.0.0)\n",
    "!fair registry start --address 0.0.0.0"
   ]
  },
  {
   "cell_type": "raw",
   "metadata": {},
   "source": [
    "%%time\n",
    "# Start a remote registery \n",
    "!fair init"
   ]
  },
  {
   "cell_type": "code",
   "execution_count": null,
   "metadata": {},
   "outputs": [],
   "source": [
    "print('a')"
   ]
  },
  {
   "cell_type": "code",
   "execution_count": 5,
   "metadata": {},
   "outputs": [
    {
     "name": "stdout",
     "output_type": "stream",
     "text": [
      "Stopping local registry server.\n"
     ]
    }
   ],
   "source": []
  },
  {
   "cell_type": "code",
   "execution_count": null,
   "metadata": {},
   "outputs": [],
   "source": []
  }
 ],
 "metadata": {
  "kernelspec": {
   "display_name": "Python 3 (ipykernel)",
   "language": "python",
   "name": "python3"
  },
  "language_info": {
   "codemirror_mode": {
    "name": "ipython",
    "version": 3
   },
   "file_extension": ".py",
   "mimetype": "text/x-python",
   "name": "python",
   "nbconvert_exporter": "python",
   "pygments_lexer": "ipython3",
   "version": "3.12.3"
  },
  "vscode": {
   "interpreter": {
    "hash": "b0fa6594d8f4cbf19f97940f81e996739fb7646882a419484c72d19e05852a7e"
   }
  }
 },
 "nbformat": 4,
 "nbformat_minor": 4
}
