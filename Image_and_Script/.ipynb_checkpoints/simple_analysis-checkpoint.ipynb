{
 "cells": [
  {
   "cell_type": "markdown",
   "id": "73facf6c-ab3a-4dc1-8d01-bd2646b4cdb5",
   "metadata": {},
   "source": [
    "# Simple image Analysis \n",
    "-----\n",
    "\n",
    "All this does is read in an time-lapse image of some dendritic cell nuclei, we'll segment out the cells and count the number of nuclei and area of each nuclei and the eccentricity. "
   ]
  },
  {
   "cell_type": "markdown",
   "id": "47501e33-2468-44cc-8011-5703bd9e74be",
   "metadata": {},
   "source": [
    "----\n",
    "### Import dependancies"
   ]
  },
  {
   "cell_type": "code",
   "execution_count": 19,
   "id": "68b7f54b-5bed-4983-9638-cadf2e95286a",
   "metadata": {
    "tags": []
   },
   "outputs": [],
   "source": [
    "import tifffile as tf\n",
    "import skimage\n",
    "import pandas as pd \n",
    "import os \n",
    "import numpy as np\n",
    "import napari"
   ]
  },
  {
   "cell_type": "markdown",
   "id": "8969ed13-6ce9-4ac1-aa68-01a5b30c5c04",
   "metadata": {},
   "source": [
    "----\n",
    "### Get Current working directory "
   ]
  },
  {
   "cell_type": "code",
   "execution_count": 3,
   "id": "e5757b3f-2f41-4a90-95be-6eeba562d18d",
   "metadata": {
    "tags": []
   },
   "outputs": [],
   "source": [
    "cwd = os.getcwd()"
   ]
  },
  {
   "cell_type": "markdown",
   "id": "fc7ddc56-0223-4289-9e88-5a07c95f7263",
   "metadata": {},
   "source": [
    "----\n",
    "### Import image"
   ]
  },
  {
   "cell_type": "code",
   "execution_count": 24,
   "id": "f8d5e4f1-30e2-4888-864f-6958894ed3ac",
   "metadata": {
    "tags": []
   },
   "outputs": [
    {
     "name": "stdout",
     "output_type": "stream",
     "text": [
      "(100, 1040, 1392)\n"
     ]
    }
   ],
   "source": [
    "image_data = tf.imread(cwd + '/s7_GFP.tif')[..., 0]\n",
    "print(image_data.shape)\n",
    "im_data_copy = np.array(image_data)"
   ]
  },
  {
   "cell_type": "markdown",
   "id": "25e2e9f1-3722-4a99-b3d3-8f5bc7687dcc",
   "metadata": {},
   "source": [
    "----\n",
    "### Threshold and segment out the cells. "
   ]
  },
  {
   "cell_type": "code",
   "execution_count": 29,
   "id": "2c452166-940d-4ec2-874f-79626c462079",
   "metadata": {
    "tags": []
   },
   "outputs": [
    {
     "name": "stdout",
     "output_type": "stream",
     "text": [
      "0.6081835937500006\n",
      "0.6633007812499994\n",
      "1.1207421874999959\n",
      "0.6664257812500018\n",
      "1.017792968750003\n",
      "0.7042773437499985\n",
      "0.680917968750002\n",
      "0.791621093749999\n",
      "0.7782226562500014\n",
      "0.4285351562499997\n",
      "0.38562499999999744\n",
      "0.3507031250000008\n",
      "0.3196093749999953\n",
      "0.7834570312499984\n",
      "0.5565429687499996\n",
      "0.667363281250001\n",
      "0.4583007812499975\n",
      "0.8500390624999987\n",
      "0.6872265624999994\n",
      "0.5709960937499989\n",
      "-0.003925781250002203\n",
      "-0.20416015624999773\n",
      "0.22310546874999915\n",
      "0.1863867187499988\n",
      "-0.23458984374999936\n",
      "-0.13666015625000227\n",
      "-0.338515625000003\n",
      "-0.12064453124999908\n",
      "-0.4396289062499985\n",
      "-0.4419531249999977\n",
      "-0.4396289062499985\n",
      "-0.3013281250000013\n",
      "-0.3338085937500015\n",
      "-0.21531250000000135\n",
      "-0.3754492187500045\n",
      "-0.5506445312499988\n",
      "-0.30855468749999915\n",
      "-0.30855468749999915\n",
      "-0.6111914062500023\n",
      "-0.7855859375000005\n",
      "-0.5329296875000011\n",
      "-0.5455664062499981\n",
      "-0.21660156250000107\n",
      "-0.34175781249999915\n",
      "-0.32695312500000284\n",
      "-0.5380273437500005\n",
      "-0.7703515624999984\n",
      "-0.29671874999999925\n",
      "-0.6927343749999979\n",
      "-0.43679687499999975\n",
      "-0.7217187499999982\n",
      "-0.5245312499999981\n",
      "-0.45015624999999826\n",
      "-0.44226562499999744\n",
      "-0.3458203124999981\n",
      "-0.46658203124999975\n",
      "-0.34212890624999925\n",
      "-0.5370898437499996\n",
      "-0.6021484374999995\n",
      "-0.5255078124999981\n",
      "-0.5358984374999993\n",
      "-0.4973632812499984\n",
      "-0.5370898437499996\n",
      "-0.5124999999999984\n",
      "-0.23306640624999986\n",
      "-0.18085937499999893\n",
      "-0.5210351562499982\n",
      "-0.5648242187500028\n",
      "-0.5245312499999981\n",
      "-0.5622070312499998\n",
      "-0.3324414062499992\n",
      "-0.5245312499999981\n",
      "-0.31630859374999964\n",
      "-0.409296874999999\n",
      "-0.2314843749999973\n",
      "-0.1467773437499975\n",
      "-0.1806054687499996\n",
      "-0.3202929687499987\n",
      "-0.11488281249999943\n",
      "-0.13015624999999797\n",
      "-0.17593750000000075\n",
      "-0.026660156249997513\n",
      "-0.07937499999999975\n",
      "0.014179687500002203\n",
      "0.0241210937500016\n",
      "-0.24730468750000156\n",
      "0.05853515624999872\n",
      "0.26066406250000007\n",
      "0.2867968750000003\n",
      "0.11964843750000043\n",
      "0.26414062500000046\n",
      "0.3984960937500013\n",
      "0.10943359375000128\n",
      "0.23720703125000053\n",
      "0.12226562500000071\n",
      "0.11326171875000046\n",
      "0.09675781249999815\n",
      "-0.13957031250000185\n",
      "-0.13568359375000139\n",
      "-0.7024023437500002\n"
     ]
    }
   ],
   "source": [
    "# Find image background \n",
    "mean_frame = np.mean(im_dat_copy, axis = 0)\n",
    "# Remove image background \n",
    "image_edit = im_data_copy - mean_frame\n",
    "\n",
    "# image_masks\n",
    "image_masks = []\n",
    "\n",
    "for i in range(image_edit.shape[0]):\n",
    "    single_frame = image_edit[i, ...]\n",
    "    threshold = skimage.filters.threshold_otsu(single_frame)\n",
    "    print(threshold)\n",
    "    single_frame[single_frame<threshold] = 0 \n",
    "    single_frame[single_frame>=threshold] = 1\n",
    "    \n",
    "    labels = skimage.measure.label(single_frame)\n",
    "    \n",
    "    image_masks.append(labels)\n"
   ]
  },
  {
   "cell_type": "code",
   "execution_count": 28,
   "id": "4d2140e3-3aff-4103-b5e7-53922d285227",
   "metadata": {
    "tags": []
   },
   "outputs": [
    {
     "data": {
      "text/plain": [
       "<Labels layer 'labels' at 0x2488a11e2b0>"
      ]
     },
     "execution_count": 28,
     "metadata": {},
     "output_type": "execute_result"
    }
   ],
   "source": [
    "viewer = napari.Viewer()\n",
    "\n",
    "viewer.add_image(image_data)\n",
    "viewer.add_labels(labels)"
   ]
  },
  {
   "cell_type": "code",
   "execution_count": null,
   "id": "7e51bda0-ae5d-4449-b1bf-a3ddbf6c9e40",
   "metadata": {},
   "outputs": [],
   "source": []
  }
 ],
 "metadata": {
  "kernelspec": {
   "display_name": "Python [conda env:Ryan_2]",
   "language": "python",
   "name": "conda-env-Ryan_2-py"
  },
  "language_info": {
   "codemirror_mode": {
    "name": "ipython",
    "version": 3
   },
   "file_extension": ".py",
   "mimetype": "text/x-python",
   "name": "python",
   "nbconvert_exporter": "python",
   "pygments_lexer": "ipython3",
   "version": "3.8.0"
  }
 },
 "nbformat": 4,
 "nbformat_minor": 5
}
