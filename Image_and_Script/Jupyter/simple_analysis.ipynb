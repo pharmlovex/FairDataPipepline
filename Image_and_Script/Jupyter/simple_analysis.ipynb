{
 "cells": [
  {
   "cell_type": "markdown",
   "id": "73facf6c-ab3a-4dc1-8d01-bd2646b4cdb5",
   "metadata": {},
   "source": [
    "# Simple image Analysis \n",
    "-----\n",
    "\n",
    "All this does is read in a single frame from a time-lapse image of some dendritic cell nuclei, we'll segment out the cells and perform some shape analysis.   \n",
    "Parameters we will extract: \n",
    "- Number of nuclei.\n",
    "- Area of each nuclei \n",
    "- The eccentricity of the nuclei\n",
    "- Circumference of the nuclei"
   ]
  },
  {
   "cell_type": "code",
   "execution_count": null,
   "id": "3cef211c-b503-4057-a31e-c9683832920d",
   "metadata": {},
   "outputs": [],
   "source": [
    "\n",
    "### Import dependancies"
   ]
  },
  {
   "cell_type": "code",
   "execution_count": 1,
   "id": "68b7f54b-5bed-4983-9638-cadf2e95286a",
   "metadata": {
    "tags": []
   },
   "outputs": [],
   "source": [
    "import tifffile as tf\n",
    "import skimage\n",
    "import pandas as pd \n",
    "import os \n",
    "import numpy as np\n",
    "import platform\n",
    "import data_pipeline_api as pipeline"
   ]
  },
  {
   "cell_type": "markdown",
   "id": "8969ed13-6ce9-4ac1-aa68-01a5b30c5c04",
   "metadata": {},
   "source": [
    "----\n",
    "### Get Current working directory "
   ]
  },
  {
   "cell_type": "code",
   "execution_count": 15,
   "id": "e5757b3f-2f41-4a90-95be-6eeba562d18d",
   "metadata": {
    "tags": []
   },
   "outputs": [],
   "source": [
    "token = str(os.environ.get(\"FDP_LOCAL_TOKEN\"))\n",
    "#cwd = os.getcwd()\n",
    "script = os.path.join(str(os.environ.get(\"FDP_CONFIG_DIR\")), \"script.sh\")\n",
    "if platform.system() == \"Windows\":\n",
    "    script = os.path.join(str(os.environ.get(\"FDP_CONFIG_DIR\")), \"script.bat\")\n",
    "config = os.path.join(str(os.environ.get(\"FDP_CONFIG_DIR\")), \"config.yaml\")\n",
    "handle = pipeline.initialise(token, config, script)"
   ]
  },
  {
   "cell_type": "markdown",
   "id": "d06f241c-bf8b-4fe4-9ff5-22bce938e64a",
   "metadata": {},
   "source": [
    "----\n",
    "### Import image"
   ]
  },
  {
   "cell_type": "code",
   "execution_count": 23,
   "id": "f8d5e4f1-30e2-4888-864f-6958894ed3ac",
   "metadata": {
    "tags": []
   },
   "outputs": [],
   "source": [
    "# Read the image data into the script.\n",
    "image_data = tf.imread(pipeline.link_read(handle, 'jupyter_image'))\n",
    "# Copy image data so as not to corrupt raw data. \n",
    "im_data_copy = np.array(image_data)"
   ]
  },
  {
   "cell_type": "markdown",
   "id": "25e2e9f1-3722-4a99-b3d3-8f5bc7687dcc",
   "metadata": {},
   "source": [
    "----\n",
    "### Threshold and Segment out the cells."
   ]
  },
  {
   "cell_type": "code",
   "execution_count": 24,
   "id": "fcba576f-a741-4116-838a-4a9c88b11c10",
   "metadata": {
    "tags": []
   },
   "outputs": [],
   "source": [
    "# Initalise image_masks\n",
    "image_masks = []\n",
    "\n",
    "# Initalise image properties\n",
    "props = {'Label', 'Area', 'Eccentricity', 'Perimeter'}\n",
    "\n",
    "# Threshold the image\n",
    "threshold = skimage.filters.threshold_otsu(im_data_copy)\n",
    "im_data_copy[im_data_copy<threshold] = 0 \n",
    "im_data_copy[im_data_copy>=threshold] = 1\n",
    "\n",
    "# Create Labels from image. \n",
    "labels = skimage.measure.label(im_data_copy)\n"
   ]
  },
  {
   "cell_type": "markdown",
   "id": "35ff986e-3212-4e85-8625-ee3ab1136feb",
   "metadata": {},
   "source": [
    "---\n",
    "### Perform the shape analysis of the nuclei"
   ]
  },
  {
   "cell_type": "code",
   "execution_count": 25,
   "id": "4ad7c01e-7d2b-4021-b2f2-a35bac65587e",
   "metadata": {
    "tags": []
   },
   "outputs": [],
   "source": [
    "# Get nuclei mask shape properties. \n",
    "mask_data = pd.DataFrame(skimage.measure.regionprops_table(labels, properties = props))"
   ]
  },
  {
   "cell_type": "markdown",
   "id": "d6f5a3ab-8c06-4616-8f1c-3a3f7d56bff5",
   "metadata": {
    "collapsed": true,
    "jupyter": {
     "outputs_hidden": true
    },
    "tags": []
   },
   "source": [
    "# Save the Outputs. "
   ]
  },
  {
   "cell_type": "code",
   "execution_count": 22,
   "id": "37df33d2-bcc7-483a-9253-7853b77ec59f",
   "metadata": {
    "tags": []
   },
   "outputs": [],
   "source": [
    "# Use tifffile to save the cell masks. \n",
    "tf.imwrite(pipeline.links_write(handle, 'jupyter_figure'), labels)\n",
    "\n",
    "# Use Pandas to save shape analysis as a \n",
    "# .csv file. \n",
    "mask_data.to_csv(pipeline.link_write(handle, 'jupyter_analysis')"
   ]
  },
  {
   "cell_type": "code",
   "execution_count": null,
   "id": "2e69a3a3-f9c1-4354-b46d-fb7db8a3cf7f",
   "metadata": {},
   "outputs": [],
   "source": [
    "pipeline.finalise(token, handle)"
   ]
  }
 ],
 "metadata": {
  "kernelspec": {
   "display_name": "Python 3 (ipykernel)",
   "language": "python",
   "name": "python3"
  },
  "language_info": {
   "codemirror_mode": {
    "name": "ipython",
    "version": 3
   },
   "file_extension": ".py",
   "mimetype": "text/x-python",
   "name": "python",
   "nbconvert_exporter": "python",
   "pygments_lexer": "ipython3",
   "version": "3.10.12"
  }
 },
 "nbformat": 4,
 "nbformat_minor": 5
}
